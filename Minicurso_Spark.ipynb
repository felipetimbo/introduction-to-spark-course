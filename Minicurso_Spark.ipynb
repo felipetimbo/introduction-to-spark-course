{
  "cells": [
    {
      "cell_type": "markdown",
      "metadata": {
        "id": "mJwcklWBWUB_"
      },
      "source": [
        "# 1 **Introdução ao Spark**\n",
        "\n",
        "Para avançar nas suas habilidades com dados, é preciso dominar o Apache Spark. Usando a API do Spark para Pyhton, PySpark,você aproveitará a computação paralela com grandes datasets, e irá ficar pronto para alta performance limpando dados, criando novas featrures e implementando modelos de machine learning. \n",
        "\n",
        "O Apache Spark é uma alternativa poderosa ao Hadoop MapReduce, com recursos avançados como aprendizado de máquina, processamento de fluxo em tempo real e cálculos gráficos.\n",
        "\n",
        "## 1.1 O que é Spark?\n",
        "\n",
        "Spark é uma plataforma para computação em cluster. Spark permite que você espalhe permite distribuir dados e faz cálculos em clusters com vários nós (Pense em cada nó como um computador separado). Dividir seus dados facilita o trabalho com conjuntos de dados muito grandes porque cada nó funciona apenas com uma pequena quantidade de dados.\n",
        "\n",
        "Na medida que cada nó trabalha em cada subset dos dados total, também realiza uma parte dos cálculos totais necessários, para que o processamento de dados e a computação sejam executados em paralelo nos nós do cluster. É um fato que a computação paralela pode tornar certos tipos de tarefas de programação muito mais rápidas.\n",
        "\n",
        "No entanto, com maior poder de computação vem maior complexidade.\n",
        "\n",
        "Decidir se o Spark é ou não a melhor solução para o seu problema requer alguma experiência, mas você pode considerar questões como:\n",
        "\n",
        "- Meus dados são grandes demais para trabalhar em uma única máquina?\n",
        "- Meus cálculos podem ser facilmente paralelizados?\n",
        "\n",
        "# Instalando o PySpark no Google Colab\n",
        "Instalar o PySpark não é um processo direto como de praxe em Python. Não basta usar um pip install apenas. Na verdade, antes de tudo é necessário instalar dependências como o **Java 8**, **Apache Spark 3.2.2** junto com o **Hadoop 2.7**."
      ]
    },
    {
      "cell_type": "code",
      "execution_count": null,
      "metadata": {
        "id": "qCD-FxoOWM3G"
      },
      "outputs": [],
      "source": [
        "# instalar as dependências\n",
        "!apt-get install openjdk-8-jdk-headless -qq > /dev/null\n",
        "!wget -q https://archive.apache.org/dist/spark/spark-3.2.2/spark-3.2.2-bin-hadoop2.7.tgz\n",
        "!tar xf spark-3.2.2-bin-hadoop2.7.tgz\n",
        "!pip install -q findspark"
      ]
    },
    {
      "cell_type": "markdown",
      "metadata": {
        "id": "BONbuFvjWrHJ"
      },
      "source": [
        "A próxima etapa é configurar as variáveis de ambiente, pois isso habilita o ambiente do Colab a identificar corretamente onde as dependências estão rodando.\n",
        "\n",
        "Para conseguir “manipular” o terminal e interagir como ele, você pode usar a biblioteca os."
      ]
    },
    {
      "cell_type": "code",
      "execution_count": null,
      "metadata": {
        "id": "aVlIl6-lWrbI"
      },
      "outputs": [],
      "source": [
        "# Configurar as variáveis de ambiente\n",
        "import os\n",
        "os.environ[\"JAVA_HOME\"] = \"/usr/lib/jvm/java-8-openjdk-amd64\"\n",
        "os.environ[\"SPARK_HOME\"] = \"/content/spark-3.2.2-bin-hadoop2.7\"\n",
        "\n",
        "# Torna o pyspark \"importável\"\n",
        "import findspark\n",
        "findspark.init('spark-3.2.2-bin-hadoop2.7')"
      ]
    },
    {
      "cell_type": "markdown",
      "metadata": {
        "id": "ntfZw6YdWuO6"
      },
      "source": [
        "Com tudo pronto, vamos rodar uma sessão local para testar se a instalação funcionou corretamente."
      ]
    },
    {
      "cell_type": "markdown",
      "metadata": {
        "id": "uY6fJ-RIW2dO"
      },
      "source": [
        "## 1.2 Usando Spark com Python\n",
        "\n",
        "A primeira etapa no uso do Spark é conectar-se a um cluster.\n",
        "\n",
        "Na prática, o cluster será hospedado em uma máquina remota conectada a todos os outros nós. Haverá um computador, chamado de mestre, que consegue dividir os dados e os cálculos. O mestre está conectado ao restante dos computadores do cluster, que são chamados de trabalhadores. O mestre envia os dados e cálculos dos trabalhadores para serem executados e eles enviam seus resultados de volta ao mestre.\n",
        "\n",
        "\n",
        "### **Criando uma SparkSession**\n",
        "\n",
        "A criação de vários `SparkSession`s e `SparkContext`s pode causar problemas, portanto, é uma prática recomendada usar o método `SparkSession.builder.getOrCreate()`. Isso retorna uma `SparkSession`  se já houver uma no ambiente ou cria uma nova, se necessário!"
      ]
    },
    {
      "cell_type": "code",
      "execution_count": null,
      "metadata": {
        "id": "YYxwg7OrWttn"
      },
      "outputs": [],
      "source": [
        "# iniciar uma sessão local \n",
        "from pyspark.sql import SparkSession\n",
        "#sc = SparkSession.builder.master('local[*]').getOrCreate()\n",
        "spark = SparkSession.builder.appName(\"Introducao\").getOrCreate()"
      ]
    },
    {
      "cell_type": "code",
      "execution_count": null,
      "metadata": {
        "id": "KXShn0yOf8ti"
      },
      "outputs": [],
      "source": [
        "# Verify SparkContext\n",
        "print(spark)\n",
        "\n",
        "# Print Spark version\n",
        "print(spark.version)"
      ]
    },
    {
      "cell_type": "markdown",
      "metadata": {
        "id": "JIuMnb9AEVOC"
      },
      "source": [
        "## 1.3 **Usando DataFrames**\n",
        "\n",
        "A estrutura de dados principal do Spark é o Resilient Distributed Dataset (RDD). Este é um objeto de baixo nível que permite que o Spark faça sua mágica dividindo os dados em vários nós no cluster. No entanto, os RDDs são difíceis de trabalhar diretamente, portanto, nesta aula, você usará a abstração do Spark DataFrame criada com base nos RDDs.\n",
        "\n",
        "O Spark DataFrame foi projetado para se comportar muito como uma tabela SQL (uma tabela com variáveis ​​nas colunas e observações nas linhas). Eles não são apenas mais fáceis de entender, mas os DataFrames também são mais otimizados para operações complicadas do que os RDDs.\n",
        "\n",
        "Quando você começa a modificar e combinar colunas e linhas de dados, há muitas maneiras de chegar ao mesmo resultado, mas algumas geralmente demoram muito mais do que outras. Ao usar RDDs, cabe ao cientista de dados descobrir a maneira correta de otimizar a consulta, mas a implementação do DataFrame tem muito dessa otimização incorporada!\n",
        "\n",
        "Para começar a trabalhar com o Spark DataFrames, primeiro você precisa criar um objeto `SparkSession` do seu `SparkContext`. Você pode pensar no `SparkContext` como sua conexão com o cluster e no `SparkSession` como sua interface com essa conexão.\n",
        "\n",
        "\n",
        "###  **Como visualizar tabelas**\n",
        "\n",
        "Depois de criar uma `SparkSession`, você pode começar a bisbilhotar para ver quais dados estão em seu cluster!\n",
        "\n",
        "Sua `SparkSession` tem um atributo chamado `catalog` que lista todos os dados dentro do cluster. Este atributo possui alguns métodos para extrair diferentes informações.\n",
        "\n",
        "Um dos mais úteis é o método `.listTables()` , que retorna os nomes de todas as tabelas em seu cluster como uma lista."
      ]
    },
    {
      "cell_type": "code",
      "execution_count": null,
      "metadata": {
        "id": "iesLVBTFFYwA"
      },
      "outputs": [],
      "source": [
        "# Print the tables in the catalog\n",
        "print(spark.catalog.listTables())"
      ]
    },
    {
      "cell_type": "markdown",
      "metadata": {
        "id": "xpqnPkt6g5Eh"
      },
      "source": [
        "### 1.3.3 **Importando tabelas & Fazendo query**\n",
        "\n",
        "Uma das vantagens da interface DataFrame é que você pode executar consultas SQL nas tabelas em seu cluster Spark.\n",
        "\n",
        "Iremos importar a tabela `flights` . Esta tabela contém uma linha para cada voo que saiu do Aeroporto Internacional de Portland (PDX) ou do Aeroporto Internacional de Seattle-Tacoma (SEA) em 2014 e 2015. Você pode baixar ela no repositório do github: https://github.com/felipetimbo/introduction-to-spark-course/\n",
        "\n",
        "Vamos ver como executar uma consulta nesta tabela. Este método pega uma string contendo a consulta em SQL e retorna um DataFrame com os resultados!\n",
        "\n",
        "Se você observar atentamente, perceberá que a tabela `flights` é mencionada apenas na consulta, não como um argumento para nenhum dos métodos. Isso ocorre porque não há um objeto local em seu ambiente que contenha esses dados, portanto, não faria sentido passar a tabela como um argumento."
      ]
    },
    {
      "cell_type": "code",
      "execution_count": null,
      "metadata": {
        "id": "5Vap-htEOWUv"
      },
      "outputs": [],
      "source": [
        "from google.colab import files\n",
        "files.upload()"
      ]
    },
    {
      "cell_type": "code",
      "execution_count": null,
      "metadata": {
        "id": "4JAA75sqfWGB"
      },
      "outputs": [],
      "source": [
        "arquivo = \"flights_small.csv\"\n",
        "flights = spark\\\n",
        "        .read.format(\"csv\")\\\n",
        "        .option(\"inferSchema\", \"True\")\\\n",
        "        .option(\"header\", \"True\")\\\n",
        "        .csv(arquivo)"
      ]
    },
    {
      "cell_type": "code",
      "execution_count": null,
      "metadata": {
        "id": "b4SI_tChMvcP"
      },
      "outputs": [],
      "source": [
        "#Verificando o shape do pyspark dataframe\n",
        "print((flights.count(), len(flights.columns)))"
      ]
    },
    {
      "cell_type": "code",
      "execution_count": null,
      "metadata": {
        "id": "iUou-01yfrx-"
      },
      "outputs": [],
      "source": [
        "flights.show(10)"
      ]
    },
    {
      "cell_type": "code",
      "execution_count": null,
      "metadata": {
        "id": "n7f1ECG4LI24"
      },
      "outputs": [],
      "source": [
        "flights.printSchema()"
      ]
    },
    {
      "cell_type": "code",
      "execution_count": null,
      "metadata": {
        "id": "uZwTQ1aIeFEQ"
      },
      "outputs": [],
      "source": [
        "from pyspark.sql.functions import col"
      ]
    },
    {
      "cell_type": "code",
      "execution_count": null,
      "metadata": {
        "id": "1VLHyRJEMXjf"
      },
      "outputs": [],
      "source": [
        "#Retirando as datas e passando colunas para tipos corretos.\n",
        "flights = flights.\\\n",
        "        withColumn(\"new_air_time\", col(\"air_time\").cast(\"integer\")).drop(\"air_time\")"
      ]
    },
    {
      "cell_type": "code",
      "execution_count": null,
      "metadata": {
        "id": "9hufcf75eecX"
      },
      "outputs": [],
      "source": [
        "#renomeando colunas\n",
        "flights = flights.withColumnRenamed(\"new_air_time\",\"air_time\")"
      ]
    },
    {
      "cell_type": "code",
      "execution_count": null,
      "metadata": {
        "id": "eXoN5JzafuQj"
      },
      "outputs": [],
      "source": [
        "#Registrando o dataframe em uma view temporária\n",
        "flights.createOrReplaceTempView(\"flights\")\n",
        "\n",
        "query = \"FROM flights SELECT * LIMIT 10\"\n",
        "\n",
        "# Selecionando as 10 primeiras linhas do dataset\n",
        "flights10 = spark.sql(query)\n",
        "\n",
        "# Print o resultado\n",
        "flights10.show()"
      ]
    },
    {
      "cell_type": "code",
      "execution_count": null,
      "metadata": {
        "id": "Y9KFBsY9iUQl"
      },
      "outputs": [],
      "source": [
        "sqlDF = spark.sql(\"SELECT * FROM flights LIMIT 10\")\n",
        "sqlDF.show()"
      ]
    },
    {
      "cell_type": "markdown",
      "metadata": {
        "id": "h7QWLimvkpZh"
      },
      "source": [
        "### Global Temporary View\n",
        "As `Temporary views` (Como a que criamos acima) no Spark SQL têm escopo de sessão e desaparecerão se a sessão que a criou for encerrada. Se você quiser ter uma exibição temporária compartilhada entre todas as sessões e mantê-la ativa até que o aplicativo Spark seja encerrado, você pode criar uma exibição temporária global. A visão temporária global está vinculada a um banco de dados global_temp preservado pelo sistema e devemos usar o nome qualificado para referenciá-lo."
      ]
    },
    {
      "cell_type": "code",
      "execution_count": null,
      "metadata": {
        "id": "Eo1dqcDUfyEZ"
      },
      "outputs": [],
      "source": [
        "# Registtrando o dataframe como view global\n",
        "flights.createGlobalTempView(\"flights\")\n",
        "\n",
        "# A visão temporária global está vinculada a um banco de dados preservado pelo sistema `global_temp`\n",
        "spark.sql(\"SELECT * FROM global_temp.flights LIMIT 10\").show()"
      ]
    },
    {
      "cell_type": "markdown",
      "metadata": {
        "id": "zBDxrNp4IxL7"
      },
      "source": [
        "### 1.3.4 **Passando PySpark Dataframe para Pandas Dataframe**\n",
        "\n",
        "Suponha que você executou uma consulta em seu enorme conjunto de dados e o agregou para algo um pouco mais gerenciável.\n",
        "\n",
        "Às vezes, faz sentido pegar essa tabela e trabalhar com ela localmente usando uma ferramenta como `pandas`. O Spark DataFrames facilita isso com o método `.toPandas()` . Chamar esse método em um Spark DataFrame retorna o `pandas` DataFrame correspondente. É simples assim!\n",
        "\n",
        "Desta vez, a consulta conta o número de voos para cada aeroporto de SEA e PDX.\n"
      ]
    },
    {
      "cell_type": "code",
      "execution_count": null,
      "metadata": {
        "id": "iBxGAVeNmNoi"
      },
      "outputs": [],
      "source": [
        "query = \"SELECT origin, dest, COUNT(*) as N FROM flights GROUP BY origin, dest\"\n",
        "\n",
        "# Rodando a query\n",
        "flight_counts = spark.sql(query)"
      ]
    },
    {
      "cell_type": "code",
      "execution_count": null,
      "metadata": {
        "id": "xsQI5MK87Mu7"
      },
      "outputs": [],
      "source": [
        "import pandas as pd"
      ]
    },
    {
      "cell_type": "code",
      "execution_count": null,
      "metadata": {
        "id": "B0W8JgrDJUFS"
      },
      "outputs": [],
      "source": [
        "# Convertendo o resultado para pandas\n",
        "df = flights.toPandas()"
      ]
    },
    {
      "cell_type": "code",
      "execution_count": null,
      "metadata": {
        "id": "86hH9PnZQLWb"
      },
      "outputs": [],
      "source": [
        "df.head()"
      ]
    },
    {
      "cell_type": "markdown",
      "metadata": {
        "id": "8rJp3IHJPXPE"
      },
      "source": [
        "No entanto, talvez você queira ir na outra direção e colocar um `pandas` DataFrame em um cluster Spark! A classe `SparkSession` tem um método para isso também.\n",
        "\n",
        "O método `.createDataFrame()` pega um `pandas` DataFrame e retorna um Spark DataFrame.\n",
        "\n",
        "A saída desse método é armazenada localmente, não no catálogo `SparkSession`. Isso significa que você pode usar todos os métodos do Spark DataFrame nele, mas não pode acessar os dados em outros contextos.\n",
        "\n",
        "Por exemplo, uma consulta SQL (usando o método `.sql()` ) que faz referência ao seu DataFrame gerará um erro. Para acessar os dados dessa maneira, você deve salvá-los como uma *tabela temporária*."
      ]
    },
    {
      "cell_type": "code",
      "execution_count": null,
      "metadata": {
        "id": "Re59n8F4NUr4"
      },
      "outputs": [],
      "source": [
        "files.upload()"
      ]
    },
    {
      "cell_type": "code",
      "execution_count": null,
      "metadata": {
        "id": "iaqu9uxFPfrn"
      },
      "outputs": [],
      "source": [
        "# Criando pandas dataframe\n",
        "arq = \"airports.csv\"\n",
        "pd_temp = pd.read_csv(arq)"
      ]
    },
    {
      "cell_type": "code",
      "execution_count": null,
      "metadata": {
        "id": "wBQybyOqQSv0"
      },
      "outputs": [],
      "source": [
        "pd_temp.head()"
      ]
    },
    {
      "cell_type": "code",
      "execution_count": null,
      "metadata": {
        "id": "swarH8YZQDyX"
      },
      "outputs": [],
      "source": [
        "# Cria spark_temp a partir de pd_temp\n",
        "spark_temp = spark.createDataFrame(pd_temp)"
      ]
    },
    {
      "cell_type": "code",
      "execution_count": null,
      "metadata": {
        "id": "YAhHNSGpQWwv"
      },
      "outputs": [],
      "source": [
        "spark_temp.show(5)"
      ]
    },
    {
      "cell_type": "markdown",
      "metadata": {
        "id": "-sjnx72c6FTe"
      },
      "source": [
        "## 2 **Manipulando Dados**\n",
        "\n",
        "### 2.1 **Criando Colunas**\n",
        "\n",
        "Aqui aprenderá a usar os métodos definidos pela classe `DataFrame` do Spark para realizar operações de dados comuns.\n",
        "\n",
        "Vejamos a execução de operações em colunas. No Spark, você pode fazer isso usando o método `.withColumn()` , que recebe dois argumentos. Primeiro, uma string com o nome da sua nova coluna e depois a própria coluna.\n",
        "\n",
        "A nova coluna deve ser um objeto da classe `Column`. Criar um deles é tão fácil quanto extrair uma coluna do seu DataFrame usando `df.colName`.\n",
        "\n",
        "Atualizar um Spark DataFrame é um pouco diferente de trabalhar em `pandas` porque o Spark DataFrame é *imutável*. Isso significa que ele não pode ser alterado e, portanto, as colunas não podem ser atualizadas no local.\n",
        "\n",
        "Assim, todos esses métodos retornam um novo DataFrame. Para substituir o DataFrame original, você deve reatribuir o DataFrame retornado usando o método da seguinte forma: `df = df.withColumn(\"newCol\", df.oldCol + 1)`"
      ]
    },
    {
      "cell_type": "code",
      "execution_count": null,
      "metadata": {
        "id": "_y_nm6fMSqZw"
      },
      "outputs": [],
      "source": [
        "flights.select(flights.air_time/60).show()"
      ]
    },
    {
      "cell_type": "code",
      "execution_count": null,
      "metadata": {
        "id": "tsJ5hWGhSsD4"
      },
      "outputs": [],
      "source": [
        "flights.show(10)"
      ]
    },
    {
      "cell_type": "code",
      "execution_count": null,
      "metadata": {
        "id": "Yh3CDdYuQ36S"
      },
      "outputs": [],
      "source": [
        "# Add duration_hrs\n",
        "flights = flights.withColumn(\"duration_hrs\", flights.air_time/60)"
      ]
    },
    {
      "cell_type": "markdown",
      "metadata": {
        "id": "9OIEbrvDZyGe"
      },
      "source": [
        "retorna uma coluna de durações de voo em horas em vez de minutos. Você também pode usar o método .alias() para renomear uma coluna que está selecionando. Então, se você quisesse .select() a coluna duration_hrs (que não está no seu DataFrame), você poderia fazer"
      ]
    },
    {
      "cell_type": "code",
      "execution_count": null,
      "metadata": {
        "id": "ZvzE8b2K83P0"
      },
      "outputs": [],
      "source": [
        "flights.show()"
      ]
    },
    {
      "cell_type": "code",
      "execution_count": null,
      "metadata": {
        "id": "wnLG0cCSSyyB"
      },
      "outputs": [],
      "source": [
        "flights.select((flights.air_time/60).alias(\"duration_hrs\")).show()"
      ]
    },
    {
      "cell_type": "markdown",
      "metadata": {
        "id": "gfpMUqNQ9EFU"
      },
      "source": [
        "*Exercício: Altere a coluna `duration_hrs` do dataframe `flights` para arredondar os valores de tempo de duração em duas casas decimais.*"
      ]
    },
    {
      "cell_type": "code",
      "execution_count": null,
      "metadata": {
        "id": "23wj1KUZ9Div"
      },
      "outputs": [],
      "source": []
    },
    {
      "cell_type": "markdown",
      "metadata": {
        "id": "n0pJLDyXBjz9"
      },
      "source": [
        "# **Selecting**\n",
        "\n",
        "A variante Spark do `SELECT` do SQL é o método `.select()`. Esse método recebe vários argumentos - um para cada coluna que você deseja selecionar. Esses argumentos podem ser o nome da coluna como uma string (uma para cada coluna) ou um objeto de coluna (usando a sintaxe `df.colName` ). Ao passar um objeto de coluna, você pode realizar operações como adição ou subtração na coluna para alterar os dados contidos nela, assim como em `.withColumn()`.\n",
        "\n",
        "A diferença entre os métodos `.select()` e `.withColumn()` é que `.select()` retorna apenas as colunas que você especificar, enquanto `.withColumn()` retorna todas as colunas do DataFrame, além do um que você definiu. Muitas vezes, é uma boa ideia soltar as colunas que você não precisa no início de uma operação para que você não arraste dados extras enquanto lida. Nesse caso, você usaria `.select()` e não `.withColumn()`."
      ]
    },
    {
      "cell_type": "markdown",
      "metadata": {
        "id": "p9GMkl7kZpzD"
      },
      "source": [
        "Semelhante ao SQL, você também pode usar o método .select() para realizar operações em colunas. Ao selecionar uma coluna usando a notação df.colName , você pode realizar qualquer operação de coluna e o método .select() retornará a coluna transformada. Por exemplo:"
      ]
    },
    {
      "cell_type": "code",
      "execution_count": null,
      "metadata": {
        "id": "k1GgF2GXCAT4"
      },
      "outputs": [],
      "source": [
        "# Selecionando um subconjunto do dataset\n",
        "selected1 = flights.select(\"tailnum\", \"origin\", \"dest\")\n",
        "selected1.show(5)"
      ]
    },
    {
      "cell_type": "code",
      "execution_count": null,
      "metadata": {
        "id": "0x6k8kb5SBLy"
      },
      "outputs": [],
      "source": [
        "lista = [\"tailnum\", \"origin\", \"dest\"]\n",
        "selected2 = flights.select(lista)\n",
        "selected2.show(5)"
      ]
    },
    {
      "cell_type": "code",
      "execution_count": null,
      "metadata": {
        "id": "dQcFB5ryRsus"
      },
      "outputs": [],
      "source": [
        "# Selecionando um subconjunto do dataset (outra maneira)\n",
        "temp = flights.select(flights.origin, flights.dest, flights.carrier)\n",
        "temp.show(5)"
      ]
    },
    {
      "cell_type": "markdown",
      "metadata": {
        "id": "MlGbE90UEePA"
      },
      "source": [
        "## **Filtrando dados**\n",
        "Vamos dar uma olhada no método `.filter()` . Como você pode suspeitar, esta é a contrapartida do Spark da cláusula `WHERE` do SQL. O método `.filter()`  aceita uma expressão que seguiria a cláusula `WHERE` de uma expressão SQL como uma string ou uma coluna Spark de valores booleanos (`True`/`False`).\n",
        "\n",
        "Por exemplo, as duas expressões a seguir produzirão a mesma saída:"
      ]
    },
    {
      "cell_type": "code",
      "execution_count": null,
      "metadata": {
        "id": "mW8LrOboX5Kh"
      },
      "outputs": [],
      "source": [
        "flights.filter(\"air_time > 120\").show()"
      ]
    },
    {
      "cell_type": "code",
      "execution_count": null,
      "metadata": {
        "id": "U9MnN4UHS3jv"
      },
      "outputs": [],
      "source": [
        "flights.filter(flights.air_time > 120).show(5)"
      ]
    },
    {
      "cell_type": "markdown",
      "metadata": {
        "id": "exD00ZUvFICh"
      },
      "source": [
        "Observe que no primeiro caso, passamos uma string para .filter(). Em SQL, escreveríamos essa tarefa de filtragem como `SELECT * FROM flight WHERE air_time > 120`. \n",
        "\n",
        "O `.filter()` do Spark pode aceitar qualquer expressão que possa ir na cláusula WHERE de uma consulta SQL (neste caso, `\"air_time > 120\"`), desde que seja passado como uma string. Observe que, no primeiro caso, não fazemos referência ao nome da tabela na string - como não faríamos na solicitação SQL."
      ]
    },
    {
      "cell_type": "markdown",
      "metadata": {
        "id": "WwwHbDtFX6I0"
      },
      "source": [
        "Também podemos fazer da seguinte forma:"
      ]
    },
    {
      "cell_type": "code",
      "execution_count": null,
      "metadata": {
        "id": "3brQCkxzX2M5"
      },
      "outputs": [],
      "source": [
        "# Definindo o primeiro filtro\n",
        "filterA = flights.origin == \"SEA\"\n",
        "\n",
        "# Definindo o segundo filtro\n",
        "filterB = flights.dest == \"PDX\"\n",
        "\n",
        "# Filtrando os dados, primeiro pelo filterA entao pelo filterB\n",
        "selected2 = selected2.filter(filterA).filter(filterB)"
      ]
    },
    {
      "cell_type": "code",
      "execution_count": null,
      "metadata": {
        "id": "59NQcSwhbyX1"
      },
      "outputs": [],
      "source": [
        "selected2.show(10)"
      ]
    },
    {
      "cell_type": "markdown",
      "metadata": {
        "id": "WVPHG9sB-5G1"
      },
      "source": [
        "*Exercício: agora filtre o dataframe `selected2` para que a condição seja OU voos de origem em \"SEA\" OU voos com destino em \"PDX\".*"
      ]
    },
    {
      "cell_type": "code",
      "execution_count": null,
      "metadata": {
        "id": "KayEpjei_rHr"
      },
      "outputs": [],
      "source": []
    },
    {
      "cell_type": "markdown",
      "metadata": {
        "id": "AcQPaLDHFg6v"
      },
      "source": [
        "# **Agregando**\n",
        "\n",
        "Todos os métodos de agregação comuns, como `.min()`, `.max()` e `.count()` são métodos `GroupedData`. Eles são criados chamando o método `.groupBy()` DataFrame. Por enquanto, tudo o que você precisa fazer para usar essas funções é chamar esse método em seu DataFrame. Por exemplo, para encontrar o valor mínimo de uma coluna, `col`, em um DataFrame, `df`, você pode fazer `df.groupBy().min(\"col\").show()`"
      ]
    },
    {
      "cell_type": "markdown",
      "metadata": {
        "id": "gC8M0Rr-GcKX"
      },
      "source": [
        "### Encontre a duração do voo mais longo (em termos de tempo) que saiu do SEA  usando o método .max()."
      ]
    },
    {
      "cell_type": "code",
      "execution_count": null,
      "metadata": {
        "id": "ufU3EDp8Tjrl"
      },
      "outputs": [],
      "source": [
        "# Achar a maior tempo de voo de SEA para outras cidades\n",
        "flights.filter(flights.origin == \"SEA\").groupBy().max(\"duration_hrs\").show()"
      ]
    },
    {
      "cell_type": "markdown",
      "metadata": {
        "id": "xr49rEnoTleI"
      },
      "source": [
        "### Encontre a menor distância percorrida que saiu do PDX  usando o método .min()."
      ]
    },
    {
      "cell_type": "code",
      "execution_count": null,
      "metadata": {
        "id": "_om4doZkGc-h"
      },
      "outputs": [],
      "source": [
        "# Achar a menor distancia do voo de PDX para outras cidades\n",
        "flights.filter(flights.origin == \"PDX\").groupBy().min(\"distance\").show()"
      ]
    },
    {
      "cell_type": "markdown",
      "metadata": {
        "id": "K7PG7vvYGeaS"
      },
      "source": [
        "- Use o método `.avg()` para obter o tempo médio de voo dos voos da Delta Airlines (onde a coluna `transportadora` tem o valor `\"DL\"`) que saíram da SEA. O local de partida é armazenado na coluna `origem`. `show()` o resultado.\n",
        "- Use o método `.sum()` para obter o número total de horas que todos os aviões neste conjunto de dados passaram no ar criando uma coluna chamada `duration_hrs` a partir da coluna `air_time`. `show()` o resultado."
      ]
    },
    {
      "cell_type": "code",
      "execution_count": null,
      "metadata": {
        "id": "6I-eCUiuGkwc"
      },
      "outputs": [],
      "source": [
        "# Duração Média dos Voos da compania delta\n",
        "flights.filter(flights.carrier == \"DL\").filter(flights.origin == \"SEA\").groupBy().avg(\"air_time\").show()"
      ]
    },
    {
      "cell_type": "code",
      "execution_count": null,
      "metadata": {
        "id": "lnhz5AzwUkT9"
      },
      "outputs": [],
      "source": [
        "# Tempo total em Horas no ar \n",
        "flights.withColumn(\"duration_hrs\", flights.air_time/60).groupBy().sum(\"duration_hrs\").show()"
      ]
    },
    {
      "cell_type": "markdown",
      "metadata": {
        "id": "4wBVovrFGuG_"
      },
      "source": [
        "Além dos métodos `GroupedData` que você já viu, há também o método `.agg()`. Esse método permite passar uma expressão de coluna agregada que usa qualquer uma das funções agregadas do submódulo `pyspark.sql.functions`.\n",
        "\n",
        "Este submódulo contém muitas funções úteis para calcular coisas como desvio padrão. Todas as funções de agregação neste submódulo usam o nome de uma coluna em uma tabela `GroupedData`.\n",
        "\n",
        "\n",
        "- Importe o submódulo `pyspark.sql.functions` como `F`.\n",
        "- Crie uma tabela `GroupedData` chamada `by_month_dest` agrupada pelas colunas `month` e `dest` . Consulte as duas colunas passando ambas as strings como argumentos separados.\n",
        "- Use o método `.avg()` no `by_month_dest` DataFrame para obter a média `dep_delay` em cada mês para cada destino.\n",
        "- Encontre o desvio padrão de `dep_delay` usando o método `.agg()` com a função `F.stddev()`."
      ]
    },
    {
      "cell_type": "code",
      "execution_count": null,
      "metadata": {
        "id": "gLgXjWdYGuqE"
      },
      "outputs": [],
      "source": [
        "# Import pyspark.sql.functions as F\n",
        "import pyspark.sql.functions as F\n",
        "\n",
        "# GroupBy por Mes e destino\n",
        "by_month_dest = flights.groupBy(\"month\", \"dest\")"
      ]
    },
    {
      "cell_type": "code",
      "execution_count": null,
      "metadata": {
        "id": "9QBdtE8LVUHB"
      },
      "outputs": [],
      "source": [
        "# Desvio Padrão \n",
        "by_month_dest.agg(F.stddev(\"dep_delay\")).show()"
      ]
    },
    {
      "cell_type": "markdown",
      "metadata": {
        "id": "Ihp5fbToBDsV"
      },
      "source": [
        "*Exercício: Quantos voos da companhia WN pousaram em São Francisco \"SFO\" em maio de 2014?*"
      ]
    },
    {
      "cell_type": "code",
      "execution_count": null,
      "metadata": {
        "id": "esMIKqyfBQCp"
      },
      "outputs": [],
      "source": []
    },
    {
      "cell_type": "markdown",
      "metadata": {
        "id": "eZ9y0afAGw45"
      },
      "source": [
        "# **Joining**\n",
        "\n",
        "Outra operação de dados muito comum é a *join*. As junções são um tópico inteiro em si mesmas, portanto, neste curso, veremos apenas junções simples.\n",
        "\n",
        "Um join combinará duas tabelas diferentes ao longo de uma coluna que elas compartilham. Essa coluna é chamada de *chave*. Exemplos de chaves aqui incluem as colunas `tailnum` e `carrier` da tabela `flights`.\n",
        "\n",
        "Por exemplo, suponha que você queira saber mais informações sobre o avião que realizou um voo do que apenas o número da cauda. Essas informações não estão na tabela `voos` porque o mesmo avião realiza muitos voos diferentes ao longo de dois anos, portanto, incluir essas informações em todas as linhas resultaria em muita duplicação. Para evitar isso, você teria uma segunda tabela que possui apenas uma linha para cada plano e cujas colunas listam todas as informações sobre o avião, incluindo seu número de cauda. Você pode chamar essa tabela de `planes`.\n",
        "\n",
        "Ao juntar a tabela `flights` a esta tabela de informações de avião, você está adicionando todas as colunas da tabela `planes` à tabela `flights`. Para preencher essas colunas com informações, você verá o número final da tabela `voos` e encontrará o número correspondente na tabela `aviões` e, em seguida, usará essa linha para preencher todas as novas colunas.\n",
        "\n",
        "Agora você terá uma tabela muito maior do que antes, mas agora cada linha tem todas as informações sobre o avião que fez aquele voo!\n",
        "\n",
        "No PySpark, as junções são realizadas usando o método DataFrame `.join()`. Este método recebe três argumentos.\n",
        "\n",
        "- O primeiro é o segundo DataFrame que você deseja unir ao primeiro. \n",
        "\n",
        "- O segundo argumento, `on`, é o nome das colunas-chave como uma string. Os nomes da(s) coluna(s) chave devem ser os mesmos em cada tabela. \n",
        "\n",
        "- O terceiro argumento, `como`, especifica o tipo de junção a ser executada. Neste curso, sempre usaremos o valor `how=\"leftouter\"`.\n",
        "\n",
        "O conjunto de dados `flights` e o novo dataset `airports` já estão no seu workspace.\n",
        "\n",
        "- Examine o `airports` DataFrame chamando `.show()`. Observe qual coluna de chave permitirá que você junte `aeroportos` à tabela `voos` .\n"
      ]
    },
    {
      "cell_type": "code",
      "execution_count": null,
      "metadata": {
        "id": "d9nMiu5IVhxm"
      },
      "outputs": [],
      "source": [
        "arquivo = \"airports.csv\"\n",
        "airports = spark\\\n",
        "        .read.format(\"csv\")\\\n",
        "        .option(\"inferSchema\", \"True\")\\\n",
        "        .option(\"header\", \"True\")\\\n",
        "        .csv(arquivo)"
      ]
    },
    {
      "cell_type": "code",
      "execution_count": null,
      "metadata": {
        "id": "rdUddXBFVaQs"
      },
      "outputs": [],
      "source": [
        "# Examine the data\n",
        "airports.show(10)"
      ]
    },
    {
      "cell_type": "code",
      "execution_count": null,
      "metadata": {
        "id": "RSBUffI-kEx7"
      },
      "outputs": [],
      "source": [
        "flights.show(10)"
      ]
    },
    {
      "cell_type": "markdown",
      "source": [
        "Renomeie a coluna `faa` em `airports` para `dest` reatribuindo o resultado de `airports.withColumnRenamed(\"faa\", \"dest\")` para `airports`."
      ],
      "metadata": {
        "id": "iSBK-I2ZOP_J"
      }
    },
    {
      "cell_type": "code",
      "execution_count": null,
      "metadata": {
        "id": "5YqcYiIbGydX"
      },
      "outputs": [],
      "source": [
        "# Renomeie a coluna faa\n",
        "airports = airports.withColumnRenamed(\"faa\", \"dest\")"
      ]
    },
    {
      "cell_type": "code",
      "source": [
        "airports.show()"
      ],
      "metadata": {
        "id": "P8Fb18zhOfMo"
      },
      "execution_count": null,
      "outputs": []
    },
    {
      "cell_type": "markdown",
      "source": [
        "Junte-se ao `flights` com o `airports` DataFrame na coluna `dest` chamando o método `.join()` em `flights`. Salve o resultado como `flights_with_airports`.\n",
        "    - O primeiro argumento deve ser o outro DataFrame, `airports`.\n",
        "    - O argumento `on` deve ser a coluna-chave.\n",
        "    - O argumento `how` deve ser `\"leftouter\"`."
      ],
      "metadata": {
        "id": "5lZfs_l4OVNd"
      }
    },
    {
      "cell_type": "code",
      "execution_count": null,
      "metadata": {
        "id": "4g0rrfW0Vxk9"
      },
      "outputs": [],
      "source": [
        "# Join os DataFrames\n",
        "flights_with_airports = flights.join(airports, on=\"dest\", how=\"leftouter\")"
      ]
    },
    {
      "cell_type": "markdown",
      "source": [
        "Chame o método `.show()` em `flights_with_airports` para examinar os dados novamente. Observe as novas informações que foram adicionadas."
      ],
      "metadata": {
        "id": "B-D-BTeCOkTO"
      }
    },
    {
      "cell_type": "code",
      "execution_count": null,
      "metadata": {
        "id": "ZfqnDKsCVvc_"
      },
      "outputs": [],
      "source": [
        "# Examine the new DataFrame\n",
        "flights_with_airports.show()"
      ]
    },
    {
      "cell_type": "markdown",
      "source": [
        "*Exercício: leia o novo dataset `planes.csv` em https://github.com/felipetimbo/introduction-to-spark-course contendo dados sobre as características dos aviões e converta-o em um dataframe.*"
      ],
      "metadata": {
        "id": "yNlWJYAoRRIu"
      }
    },
    {
      "cell_type": "code",
      "source": [],
      "metadata": {
        "id": "YV9mQ1a8UBby"
      },
      "execution_count": null,
      "outputs": []
    },
    {
      "cell_type": "markdown",
      "source": [
        "*No dataframe `planes`, renomeie a coluna \"year\" para \"plane_year\".*"
      ],
      "metadata": {
        "id": "Eui4GAApTAkl"
      }
    },
    {
      "cell_type": "code",
      "source": [],
      "metadata": {
        "id": "NQnuTLTPT8xK"
      },
      "execution_count": null,
      "outputs": []
    },
    {
      "cell_type": "markdown",
      "source": [
        "*Faça um join do dataframe `flights` com o dataframe `planes` na coluna `tailnum` e mostra o resultado.*"
      ],
      "metadata": {
        "id": "9lNIBVs1TUAP"
      }
    },
    {
      "cell_type": "code",
      "source": [],
      "metadata": {
        "id": "FHQvb4fvT6Nv"
      },
      "execution_count": null,
      "outputs": []
    },
    {
      "cell_type": "markdown",
      "metadata": {
        "id": "W4rGRBeJG5-P"
      },
      "source": [
        "# FIM"
      ]
    }
  ],
  "metadata": {
    "colab": {
      "provenance": []
    },
    "kernelspec": {
      "display_name": "Python 3",
      "name": "python3"
    },
    "language_info": {
      "name": "python"
    }
  },
  "nbformat": 4,
  "nbformat_minor": 0
}